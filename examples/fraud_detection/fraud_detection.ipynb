{
 "cells": [
  {
   "cell_type": "code",
   "execution_count": 1,
   "metadata": {
    "pycharm": {
     "is_executing": false
    }
   },
   "outputs": [],
   "source": [
    "import sys\n",
    "import pandas as pd\n",
    "import numpy as np\n",
    "import yaml\n",
    "\n",
    "sys.path.append('../../../ludwig')\n",
    "from ludwig.api import LudwigModel\n",
    "\n",
    "%load_ext autoreload\n",
    "%autoreload 2"
   ]
  },
  {
   "cell_type": "markdown",
   "metadata": {},
   "source": [
    "# Load Data"
   ]
  },
  {
   "cell_type": "code",
   "execution_count": 2,
   "metadata": {},
   "outputs": [],
   "source": [
    "input_data = pd.read_csv('creditcard.csv')"
   ]
  },
  {
   "cell_type": "code",
   "execution_count": 3,
   "metadata": {},
   "outputs": [
    {
     "data": {
      "text/plain": [
       "0    284315\n",
       "1       492\n",
       "Name: Class, dtype: int64"
      ]
     },
     "execution_count": 3,
     "metadata": {},
     "output_type": "execute_result"
    }
   ],
   "source": [
    "input_data.Class.value_counts()"
   ]
  },
  {
   "cell_type": "markdown",
   "metadata": {},
   "source": [
    "# Model 1\n",
    "- No dataset manipulation"
   ]
  },
  {
   "cell_type": "markdown",
   "metadata": {},
   "source": [
    "##### Initialize Config File"
   ]
  },
  {
   "cell_type": "code",
   "execution_count": 4,
   "metadata": {},
   "outputs": [],
   "source": [
    "with open(\"model1_config.yaml\", 'r') as stream:\n",
    "    try:\n",
    "        config1 = yaml.safe_load(stream)\n",
    "    except yaml.YAMLError as exc:\n",
    "        print(exc)"
   ]
  },
  {
   "cell_type": "markdown",
   "metadata": {},
   "source": [
    "##### Build Model"
   ]
  },
  {
   "cell_type": "code",
   "execution_count": 5,
   "metadata": {},
   "outputs": [
    {
     "name": "stderr",
     "output_type": "stream",
     "text": [
      "/Users/connormccormick/opt/anaconda3/lib/python3.8/site-packages/torchmetrics/utilities/prints.py:36: UserWarning: Metric `AUROC` will save all targets and predictions in buffer. For large datasets this may lead to large memory footprint.\n",
      "  warnings.warn(*args, **kwargs)\n"
     ]
    }
   ],
   "source": [
    "model1 = LudwigModel(config1)\n",
    "stats1, preprocessed_data1, output_url1 = model1.train(dataset=input_data)\n",
    "evaluation_statistics1, predictions1, output_directory1 = model1.evaluate(dataset=input_data)"
   ]
  },
  {
   "cell_type": "markdown",
   "metadata": {},
   "source": [
    "# Model 2\n",
    "- Undersampling Majority\n",
    "- Minority class set to 50% of majority class"
   ]
  },
  {
   "cell_type": "markdown",
   "metadata": {},
   "source": [
    "##### Initialize Config File"
   ]
  },
  {
   "cell_type": "code",
   "execution_count": 6,
   "metadata": {},
   "outputs": [],
   "source": [
    "with open(\"model2_config.yaml\", 'r') as stream:\n",
    "    try:\n",
    "        config2 = yaml.safe_load(stream)\n",
    "    except yaml.YAMLError as exc:\n",
    "        print(exc)"
   ]
  },
  {
   "cell_type": "markdown",
   "metadata": {},
   "source": [
    "##### Build Model"
   ]
  },
  {
   "cell_type": "code",
   "execution_count": 7,
   "metadata": {},
   "outputs": [
    {
     "name": "stderr",
     "output_type": "stream",
     "text": [
      "/Users/connormccormick/opt/anaconda3/lib/python3.8/site-packages/torchmetrics/utilities/prints.py:36: UserWarning: Metric `AUROC` will save all targets and predictions in buffer. For large datasets this may lead to large memory footprint.\n",
      "  warnings.warn(*args, **kwargs)\n"
     ]
    }
   ],
   "source": [
    "model2 = LudwigModel(config2)\n",
    "stats2, preprocessed_data2, output_url2 = model2.train(dataset=input_data)\n",
    "evaluation_statistics2, predictions2, output_directory2 = model2.evaluate(dataset=input_data)"
   ]
  },
  {
   "cell_type": "markdown",
   "metadata": {},
   "source": [
    "# Model 3\n",
    "- Minority class oversampling\n",
    "- Minority class at 50% of majority class"
   ]
  },
  {
   "cell_type": "markdown",
   "metadata": {},
   "source": [
    "##### Initialize Config File"
   ]
  },
  {
   "cell_type": "code",
   "execution_count": 8,
   "metadata": {},
   "outputs": [],
   "source": [
    "with open(\"model3_config.yaml\", 'r') as stream:\n",
    "    try:\n",
    "        config3 = yaml.safe_load(stream)\n",
    "    except yaml.YAMLError as exc:\n",
    "        print(exc)"
   ]
  },
  {
   "cell_type": "markdown",
   "metadata": {},
   "source": [
    "##### Build Model"
   ]
  },
  {
   "cell_type": "code",
   "execution_count": 9,
   "metadata": {},
   "outputs": [
    {
     "name": "stderr",
     "output_type": "stream",
     "text": [
      "/Users/connormccormick/opt/anaconda3/lib/python3.8/site-packages/torchmetrics/utilities/prints.py:36: UserWarning: Metric `AUROC` will save all targets and predictions in buffer. For large datasets this may lead to large memory footprint.\n",
      "  warnings.warn(*args, **kwargs)\n"
     ]
    }
   ],
   "source": [
    "model3 = LudwigModel(config3)\n",
    "stats3, preprocessed_data3, output_url3 = model3.train(dataset=input_data)\n",
    "evaluation_statistics3, predictions3, output_directory3 = model3.evaluate(dataset=input_data)"
   ]
  },
  {
   "cell_type": "markdown",
   "metadata": {},
   "source": [
    "# Evalutaion"
   ]
  },
  {
   "cell_type": "markdown",
   "metadata": {},
   "source": [
    "##### Model 1: No Dataset Balancing"
   ]
  },
  {
   "cell_type": "code",
   "execution_count": 42,
   "metadata": {},
   "outputs": [
    {
     "data": {
      "text/plain": [
       "{'Class': {'loss': 0.16574536263942719,\n",
       "  'accuracy': 0.9987359642982483,\n",
       "  'roc_auc': 0.7724238038063049},\n",
       " 'combined': {'loss': 0.042273156344890594}}"
      ]
     },
     "execution_count": 42,
     "metadata": {},
     "output_type": "execute_result"
    }
   ],
   "source": [
    "evaluation_statistics1"
   ]
  },
  {
   "cell_type": "code",
   "execution_count": 44,
   "metadata": {},
   "outputs": [
    {
     "name": "stdout",
     "output_type": "stream",
     "text": [
      "Test Set Majority Class Count: 57020\n",
      "Test Set Minority Class Count: 86\n"
     ]
    }
   ],
   "source": [
    "bins = np.bincount(preprocessed_data1[2].dataset['Class_mZFLky'])\n",
    "majority_class_count1 = bins[0]\n",
    "minority_class_count1 = bins[1]\n",
    "print(\"Test Set Majority Class Count: {}\".format(majority_class_count1))\n",
    "print(\"Test Set Minority Class Count: {}\".format(minority_class_count1))"
   ]
  },
  {
   "cell_type": "markdown",
   "metadata": {},
   "source": [
    "##### Model 2: Majority Undersampling"
   ]
  },
  {
   "cell_type": "code",
   "execution_count": 11,
   "metadata": {},
   "outputs": [
    {
     "data": {
      "text/plain": [
       "{'Class': {'loss': 414.2647705078125,\n",
       "  'accuracy': 0.8794037699699402,\n",
       "  'roc_auc': 0.9176716804504395},\n",
       " 'combined': {'loss': 0.6246074438095093}}"
      ]
     },
     "execution_count": 11,
     "metadata": {},
     "output_type": "execute_result"
    }
   ],
   "source": [
    "evaluation_statistics2"
   ]
  },
  {
   "cell_type": "code",
   "execution_count": 45,
   "metadata": {},
   "outputs": [
    {
     "name": "stdout",
     "output_type": "stream",
     "text": [
      "Test Set Majority Class Count: 204\n",
      "Test Set Minority Class Count: 104\n"
     ]
    }
   ],
   "source": [
    "bins = np.bincount(preprocessed_data2[2].dataset['Class_mZFLky'])\n",
    "majority_class_count2 = bins[0]\n",
    "minority_class_count2 = bins[1]\n",
    "print(\"Test Set Majority Class Count: {}\".format(majority_class_count2))\n",
    "print(\"Test Set Minority Class Count: {}\".format(minority_class_count2))"
   ]
  },
  {
   "cell_type": "markdown",
   "metadata": {},
   "source": [
    "##### Model 3: Minority Oversampling"
   ]
  },
  {
   "cell_type": "code",
   "execution_count": 12,
   "metadata": {},
   "outputs": [
    {
     "data": {
      "text/plain": [
       "{'Class': {'loss': 1.2576910257339478,\n",
       "  'accuracy': 0.952880859375,\n",
       "  'roc_auc': 0.9804296493530273},\n",
       " 'combined': {'loss': 0.21803104877471924}}"
      ]
     },
     "execution_count": 12,
     "metadata": {},
     "output_type": "execute_result"
    }
   ],
   "source": [
    "evaluation_statistics3"
   ]
  },
  {
   "cell_type": "code",
   "execution_count": 46,
   "metadata": {},
   "outputs": [
    {
     "name": "stdout",
     "output_type": "stream",
     "text": [
      "Test Set Majority Class Count: 56906\n",
      "Test Set Minority Class Count: 28445\n"
     ]
    }
   ],
   "source": [
    "bins = np.bincount(preprocessed_data3[2].dataset['Class_mZFLky'])\n",
    "majority_class_count3 = bins[0]\n",
    "minority_class_count3 = bins[1]\n",
    "print(\"Test Set Majority Class Count: {}\".format(majority_class_count3))\n",
    "print(\"Test Set Minority Class Count: {}\".format(minority_class_count3))"
   ]
  }
 ],
 "metadata": {
  "kernelspec": {
   "display_name": "Python 3",
   "language": "python",
   "name": "python3"
  },
  "language_info": {
   "codemirror_mode": {
    "name": "ipython",
    "version": 3
   },
   "file_extension": ".py",
   "mimetype": "text/x-python",
   "name": "python",
   "nbconvert_exporter": "python",
   "pygments_lexer": "ipython3",
   "version": "3.8.8"
  }
 },
 "nbformat": 4,
 "nbformat_minor": 4
}
